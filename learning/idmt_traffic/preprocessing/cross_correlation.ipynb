{
 "cells": [
  {
   "cell_type": "code",
   "execution_count": 13,
   "metadata": {},
   "outputs": [],
   "source": [
    "import numpy as np\n",
    "from scipy import signal\n",
    "import soundfile as sf\n",
    "\n",
    "import seaborn as sns\n",
    "import matplotlib.pyplot as plt\n",
    "%matplotlib inline"
   ]
  },
  {
   "cell_type": "code",
   "execution_count": 2,
   "metadata": {},
   "outputs": [],
   "source": [
    "def get_number_of_blocks(num_samples, blocksize, hopsize):\n",
    "    \"\"\"\n",
    "    Return start and end indices of sample buffers\n",
    "    Args:\n",
    "        num_samples (int): Total number of samples\n",
    "        blocksize (int): Blocksize in samples\n",
    "        hopsize (int): Hopsize in samples\n",
    "    Returns:\n",
    "        num_blocks (int): Number of blocks (without zero-padding)\n",
    "    \"\"\"\n",
    "    return int(np.fix((num_samples - (blocksize - hopsize)) / hopsize))\n",
    "\n",
    "def buffer_indices(num_samples, blocksize, hopsize):\n",
    "    \"\"\" \n",
    "    Return start and end indices of sample buffers\n",
    "    Args:\n",
    "        num_samples (int): Total number of samples\n",
    "        blocksize (int): Blocksize in samples\n",
    "        hopsize (int): Hopsize in samples\n",
    "    Returns:\n",
    "        buffer_idx (2d np.ndarray): Sample indices aranged as 2d array,\n",
    "                                    Columns are buffer blocks (blocksize x n_blocks)\n",
    "    \"\"\"\n",
    "    num_frames = get_number_of_blocks(num_samples, blocksize, hopsize)\n",
    "\n",
    "    buffer_idx = np.tile(np.arange(blocksize)[:, np.newaxis], (1, num_frames)) + \\\n",
    "                 np.tile(np.arange(num_frames)*hopsize, (blocksize, 1))\n",
    "    return buffer_idx\n",
    "\n",
    "def buffer_signal(x, blocksize, hopsize):\n",
    "    num_samples = len(x)\n",
    "    buffer_idx = buffer_indices(num_samples, blocksize, hopsize)\n",
    "    return x[buffer_idx]\n"
   ]
  },
  {
   "cell_type": "code",
   "execution_count": 3,
   "metadata": {},
   "outputs": [],
   "source": [
    "class VehicleDirectionFeatureExtractor:\n",
    "    \"\"\" Class implements feature extraction for CNN-based detection of vehicle moving direction.\n",
    "        A block-wise cross-correlation is computed and stacked over time. Then, only the center part around the\n",
    "        zero-lag is kept, since we only focus on very small time-shifts here (between the left and right audio channel).\n",
    "    \"\"\"\n",
    "\n",
    "    def __init__(self,\n",
    "                 blocksize_sec=1,\n",
    "                 hopsize_sec=.05,\n",
    "                 center_one_side_margin = 25):\n",
    "        \"\"\" Initialize class\n",
    "        Args:\n",
    "            blocksize_sec (float): Blocksize in seconds\n",
    "            hopsize_sec (float): Hopsize in seconds\n",
    "            center_one_side_margin (int): One-sided margin around zero-lag in cross-correlation matrix, which will be\n",
    "                                          used to extract center part as cc_matrix representation\n",
    "        \"\"\"\n",
    "        self.blocksize_sec = blocksize_sec\n",
    "        self.hopsize_sec = hopsize_sec\n",
    "        self.center_one_side_margin = center_one_side_margin\n",
    "\n",
    "    def compute_spectrogram(self,\n",
    "                            fn_wav,\n",
    "                            normalize=True):\n",
    "        \"\"\" Compute feature representation for stereo input (cross-correlation matrix)\n",
    "        Args:\n",
    "            fn_wav (string): WAV file\n",
    "            normalize (bool): Switch to center columns in cross-correlation matrix to zero mean\n",
    "        Returns:\n",
    "            correlation matrix (2D np.ndarray: Center part of cross-correlation matrix around zero-lag index\n",
    "            time_axis_sec (ndarray): Time frames in seconds (num_frames)\n",
    "            lag_axis_sec (ndarray): Lag values in seconds (num_bins)\n",
    "        \"\"\"\n",
    "        # load audio\n",
    "        # x, fs = AudioImport.loadWAV(fn_wav)\n",
    "        x, fs = sf.read(fn_wav)\n",
    "        assert x.ndim == 2\n",
    "\n",
    "        # get left and right channel\n",
    "        x_l = x[:, 0]\n",
    "        x_r = x[:, 1]\n",
    "\n",
    "        blocksize_samples = int(fs * self.blocksize_sec)\n",
    "        hopsize_samples = int(fs * self.hopsize_sec)\n",
    "\n",
    "        print('Hopsize in samples = ', hopsize_samples)\n",
    "\n",
    "        # signal buffering\n",
    "        b_l = buffer_signal(x_l, blocksize_samples, hopsize_samples).T\n",
    "        b_r = buffer_signal(x_r, blocksize_samples, hopsize_samples).T\n",
    "\n",
    "        # block-wise cross-correlation between left and right channel\n",
    "        num_blocks = b_l.shape[0]\n",
    "        cc_mat = np.zeros((num_blocks, 2 * blocksize_samples - 1), dtype=np.float16)\n",
    "        for b in range(num_blocks):\n",
    "            cc_mat[b, :] = signal.fftconvolve(b_l[b, :], b_r[b, :][::-1], mode='full')\n",
    "\n",
    "        time_axis_sec = np.arange(num_blocks)*self.hopsize_sec\n",
    "\n",
    "        # use central part around zero-lag index as cross-correlation matrix representation\n",
    "        assert self.center_one_side_margin <= blocksize_samples - 1, \"Center margin must be smaller than {}!\".format(blocksize_samples)\n",
    "        cc_matrix = cc_mat[:, blocksize_samples - 1 - self.center_one_side_margin : blocksize_samples - 1 + self.center_one_side_margin + 1].T\n",
    "\n",
    "        lag_axis_sec = np.arange(- self.center_one_side_margin, self.center_one_side_margin + 1)*1/fs\n",
    "\n",
    "        # frame-wise centering to zero mean\n",
    "        if normalize:\n",
    "            cc_matrix -= np.mean(cc_matrix, axis=0)\n",
    "            # cc_matrix -= np.min(cc_matrix)\n",
    "            # cc_matrix = np.log(cc_matrix+np.finfo(float).eps)\n",
    "\n",
    "        return cc_matrix, time_axis_sec, lag_axis_sec"
   ]
  },
  {
   "cell_type": "code",
   "execution_count": 4,
   "metadata": {},
   "outputs": [],
   "source": [
    "vdfe = VehicleDirectionFeatureExtractor()"
   ]
  },
  {
   "cell_type": "code",
   "execution_count": 44,
   "metadata": {},
   "outputs": [
    {
     "name": "stdout",
     "output_type": "stream",
     "text": [
      "Hopsize in samples =  2400\n"
     ]
    }
   ],
   "source": [
    "# 2019-11-19-16-30_Langewiesener-Strasse_50Kmh_1697744_A_D_TR_SE_CH34.wav\n",
    "cc_matrix, time_axis_sec, lag_axis_sec = vdfe.compute_spectrogram(\"../dataset/IDMT_Traffic/audio/2019-11-19-16-30_Langewiesener-Strasse_50Kmh_1595840_A_D_CL_ME_CH12.wav\")"
   ]
  },
  {
   "cell_type": "code",
   "execution_count": 45,
   "metadata": {},
   "outputs": [
    {
     "data": {
      "text/plain": [
       "array([[ 0.219   ,  0.2158  ,  0.2161  , ..., -0.09436 , -0.10394 ,\n",
       "        -0.1109  ],\n",
       "       [ 0.2153  ,  0.2139  ,  0.2168  , ..., -0.0867  , -0.09784 ,\n",
       "        -0.1049  ],\n",
       "       [ 0.2068  ,  0.207   ,  0.2129  , ..., -0.07776 , -0.0905  ,\n",
       "        -0.0976  ],\n",
       "       ...,\n",
       "       [ 0.01776 ,  0.012085,  0.01019 , ..., -0.08856 , -0.07825 ,\n",
       "        -0.0702  ],\n",
       "       [ 0.01337 ,  0.00806 ,  0.00763 , ..., -0.0991  , -0.0885  ,\n",
       "        -0.0806  ],\n",
       "       [ 0.00775 ,  0.002625,  0.003479, ..., -0.10925 , -0.0986  ,\n",
       "        -0.09125 ]], dtype=float16)"
      ]
     },
     "execution_count": 45,
     "metadata": {},
     "output_type": "execute_result"
    }
   ],
   "source": [
    "cc_matrix"
   ]
  },
  {
   "cell_type": "code",
   "execution_count": 46,
   "metadata": {},
   "outputs": [
    {
     "data": {
      "text/plain": [
       "(21,)"
      ]
     },
     "execution_count": 46,
     "metadata": {},
     "output_type": "execute_result"
    }
   ],
   "source": [
    "time_axis_sec.shape"
   ]
  },
  {
   "cell_type": "code",
   "execution_count": 47,
   "metadata": {},
   "outputs": [
    {
     "data": {
      "text/plain": [
       "(51,)"
      ]
     },
     "execution_count": 47,
     "metadata": {},
     "output_type": "execute_result"
    }
   ],
   "source": [
    "lag_axis_sec.shape"
   ]
  },
  {
   "cell_type": "code",
   "execution_count": 48,
   "metadata": {},
   "outputs": [
    {
     "data": {
      "image/png": "[encoded data removed]",
      "text/plain": [
       "<Figure size 640x480 with 2 Axes>"
      ]
     },
     "metadata": {},
     "output_type": "display_data"
    }
   ],
   "source": [
    "sns.set()\n",
    "ax = sns.heatmap(cc_matrix)\n",
    "plt.show()"
   ]
  },
  {
   "cell_type": "code",
   "execution_count": null,
   "metadata": {},
   "outputs": [],
   "source": []
  }
 ],
 "metadata": {
  "kernelspec": {
   "display_name": "PT",
   "language": "python",
   "name": "python3"
  },
  "language_info": {
   "codemirror_mode": {
    "name": "ipython",
    "version": 3
   },
   "file_extension": ".py",
   "mimetype": "text/x-python",
   "name": "python",
   "nbconvert_exporter": "python",
   "pygments_lexer": "ipython3",
   "version": "3.10.9"
  },
  "orig_nbformat": 4,
  "vscode": {
   "interpreter": {
    "hash": "43926946470bb827d305256f979d20d06136168b26887207f85f0d5c88e9b0a7"
   }
  }
 },
 "nbformat": 4,
 "nbformat_minor": 2
}
