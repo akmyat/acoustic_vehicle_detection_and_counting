{
 "cells": [
  {
   "cell_type": "code",
   "execution_count": 1,
   "metadata": {},
   "outputs": [],
   "source": [
    "import numpy as np\n",
    "import pandas as pd\n",
    "import seaborn as sns\n",
    "import matplotlib.pyplot as plt\n",
    "\n",
    "import torch\n",
    "import torch.nn as nn\n",
    "from torch.utils.data import DataLoader\n",
    "\n",
    "import torchvision\n",
    "from torchvision.transforms import Resize, Lambda, InterpolationMode\n",
    "from torchvision.models import vgg13, VGG13_Weights\n",
    "\n",
    "from sklearn.metrics import confusion_matrix, classification_report\n",
    "\n",
    "from importlib.machinery import SourceFileLoader\n",
    "pmodule = SourceFileLoader(\"*\", \"../preprocessing/preprocessing.py\").load_module()"
   ]
  },
  {
   "cell_type": "code",
   "execution_count": 2,
   "metadata": {},
   "outputs": [],
   "source": [
    "MODEL_NAME = \"vgg13\"\n",
    "\n",
    "N_MELS = 128\n",
    "\n",
    "BATCH_SIZE = 128\n",
    "LEARNING_RATE = 1e-5\n",
    "NUM_EPOCHS = 10"
   ]
  },
  {
   "cell_type": "code",
   "execution_count": 3,
   "metadata": {},
   "outputs": [],
   "source": [
    "if torch.cuda.is_available():\n",
    "    device = \"cuda\"\n",
    "else:\n",
    "    device = \"cpu\""
   ]
  },
  {
   "cell_type": "code",
   "execution_count": 4,
   "metadata": {},
   "outputs": [
    {
     "name": "stdout",
     "output_type": "stream",
     "text": [
      "Metadata for idmt_traffic_all.txt: \n",
      "Metadata for eusipco_2021_train.txt: \n",
      "Metadata for eusipco_2021_test.txt: \n",
      "X_trian: (4698, 6)\ty_train: (4698,)\n",
      "X_val: (1175, 6)\t\ty_val: (1175,)\n",
      "X_test: (2857, 6)\ty_test: (2857,)\n"
     ]
    }
   ],
   "source": [
    "preprocess = pmodule.Preprocess(\"../dataset/IDMT_Traffic.zip\")\n",
    "X_train, X_val, X_test, y_train, y_val, y_test = preprocess.train_val_test_split()\n",
    "\n",
    "train_dataset = pmodule.IDMTTrafficDataset(X_train, y_train, \"../dataset/IDMT_Traffic.zip\", n_mels=N_MELS, target_sample_rate=22050)\n",
    "val_dataset = pmodule.IDMTTrafficDataset(X_val, y_val, \"../dataset/IDMT_Traffic.zip\", n_mels=N_MELS, target_sample_rate=22050)\n",
    "test_dataset = pmodule.IDMTTrafficDataset(X_test, y_test, \"../dataset/IDMT_Traffic.zip\", n_mels=N_MELS, target_sample_rate=22050)\n",
    "\n",
    "train_dataloader = DataLoader(train_dataset, batch_size=BATCH_SIZE, shuffle=True)\n",
    "val_dataloader = DataLoader(val_dataset, batch_size=BATCH_SIZE, shuffle=True)\n",
    "test_dataloader = DataLoader(test_dataset, batch_size=BATCH_SIZE, shuffle=True)"
   ]
  },
  {
   "cell_type": "code",
   "execution_count": null,
   "metadata": {},
   "outputs": [],
   "source": [
    "model = vgg13(weights=VGG13_Weights.IMAGENET1K_V1)\n",
    "num_ftrs = model.classifier[6].in_features\n",
    "features = list(model.classifier.children())[:-1]\n",
    "features.extend([nn.Linear(num_ftrs, 4)])\n",
    "model.classifier = nn.Sequential(*features)\n",
    "model.to(device)"
   ]
  },
  {
   "cell_type": "code",
   "execution_count": null,
   "metadata": {},
   "outputs": [],
   "source": [
    "loss_fn = nn.CrossEntropyLoss()\n",
    "optimizer = torch.optim.Adam(model.parameters(), lr=LEARNING_RATE)\n",
    "\n",
    "def multi_acc(y_pred, y_true):\n",
    "    y_pred_softmax = torch.log_softmax(y_pred, dim=1)\n",
    "    _, y_pred_tags = torch.max(y_pred_softmax, dim=1)    \n",
    "    correct_pred = (y_pred_tags == y_true).float()\n",
    "    acc = correct_pred.sum() / len(correct_pred)\n",
    "    acc = torch.round(acc * 100)\n",
    "    return acc"
   ]
  },
  {
   "cell_type": "code",
   "execution_count": null,
   "metadata": {},
   "outputs": [],
   "source": [
    "train_losses = []\n",
    "train_accs = []\n",
    "val_losses = []\n",
    "val_accs = []\n",
    "\n",
    "for epoch in range(NUM_EPOCHS):\n",
    "    train_running_loss = 0.0\n",
    "    train_running_acc = 0.0\n",
    "    val_running_loss = 0.0\n",
    "    val_running_acc = 0.0\n",
    "\n",
    "    # Train\n",
    "    model.train()\n",
    "    for idx, (train_features, y_train_trues) in enumerate(train_dataloader, 0):\n",
    "        # Resize to 224x224\n",
    "        X_train = Resize((224, 224), interpolation=InterpolationMode.BILINEAR)(train_features)\n",
    "\n",
    "        X_train, y_train_trues = X_train.to(device), y_train_trues.to(device)\n",
    "\n",
    "        # Foward pass\n",
    "        optimizer.zero_grad()\n",
    "\n",
    "        y_train_preds = model(X_train)\n",
    "\n",
    "        train_loss = loss_fn(y_train_preds, y_train_trues)\n",
    "        train_acc = multi_acc(y_train_preds, y_train_trues)\n",
    "\n",
    "        train_loss.backward()\n",
    "        optimizer.step()\n",
    "\n",
    "        train_running_loss += train_loss.item()\n",
    "        train_running_acc += train_acc.item()\n",
    "    train_losses.append(train_running_loss/len(train_dataloader))\n",
    "    train_accs.append(train_running_acc/len(train_dataloader))\n",
    "\n",
    "    # Validation\n",
    "    with torch.no_grad():\n",
    "        model.eval()\n",
    "        for idx, (val_features, y_val_trues) in enumerate(val_dataloader, 0):\n",
    "            # Resize to 224x224\n",
    "            X_val = Resize((224, 224), interpolation=InterpolationMode.BILINEAR)(val_features)\n",
    "\n",
    "            X_val, y_val_trues = X_val.to(device), y_val_trues.to(device)\n",
    "\n",
    "            # Forward pass\n",
    "            y_val_preds = model(X_val)\n",
    "\n",
    "            val_loss = loss_fn(y_val_preds, y_val_trues)\n",
    "            val_acc = multi_acc(y_val_preds, y_val_trues)\n",
    "\n",
    "            val_running_loss += val_loss.item()\n",
    "            val_running_acc += val_acc.item()\n",
    "    val_losses.append(val_running_loss/len(val_dataloader))\n",
    "    val_accs.append(val_running_acc/len(val_dataloader))\n",
    "\n",
    "    print(f\"Epoch [{epoch+1}/{NUM_EPOCHS}]\\t|\\tTrain Loss: {train_running_loss/len(train_dataloader):.5f}\\t|\\tVal Loss: {val_running_loss/len(val_dataloader):.5f}\\t|\\tTrain Acc: {train_running_acc/len(train_dataloader):.3f}\\t|\\tVal Acc: {val_running_acc/len(val_dataloader):.3f}\")\n",
    "\n",
    "\n",
    "# Save the model\n",
    "torch.save(model.state_dict(), f\"idmt_{MODEL_NAME}_{N_MELS}mel_{LEARNING_RATE}lr_{NUM_EPOCHS}epoch_model.pt\")"
   ]
  },
  {
   "cell_type": "code",
   "execution_count": null,
   "metadata": {},
   "outputs": [],
   "source": [
    "fig, (ax1, ax2) = plt.subplots(1, 2, figsize=(20, 10))\n",
    "ax1.plot(train_accs, '-o', label='Train')\n",
    "ax1.plot(val_accs, '-o', label='Val')\n",
    "ax1.set_title('Accuracy')\n",
    "ax1.set_xlabel('Epoch')\n",
    "ax1.set_ylabel('Accuracy')\n",
    "ax1.legend()\n",
    "\n",
    "ax2.plot(train_losses, '-o', label='Train')\n",
    "ax2.plot(val_losses, '-o', label='Val')\n",
    "ax2.set_title('Loss')\n",
    "ax2.set_xlabel('Epoch')\n",
    "ax2.set_ylabel('Loss')\n",
    "ax2.legend()\n",
    "\n",
    "plt.savefig(f\"idmt_{MODEL_NAME}_{N_MELS}mel_{LEARNING_RATE}lr_{NUM_EPOCHS}epoch_model.png\")"
   ]
  },
  {
   "cell_type": "code",
   "execution_count": null,
   "metadata": {},
   "outputs": [],
   "source": [
    "y_test_pred_list = []\n",
    "with torch.no_grad():\n",
    "    model.eval()\n",
    "    for idx, (test_features, y_test_trues) in enumerate(test_dataloader, 0):\n",
    "        # Resize to 224x224\n",
    "        X_test = Resize((224, 224), interpolation=InterpolationMode.BILINEAR)(test_features)\n",
    "\n",
    "        X_test, y_test_trues = X_test.to(device), y_test_trues.to(device)\n",
    "\n",
    "        y_test_preds = model(X_test)\n",
    "\n",
    "        _, y_test_preds_tags = torch.max(y_test_preds, dim=1)\n",
    "        y_test_pred_list.append(y_test_preds_tags.cpu().numpy())\n",
    "\n",
    "y_test_pred_list = [a.squeeze().tolist() for a in y_test_pred_list]\n",
    "idx_to_class = {0: 'None', 1: 'C', 2: 'M', 3: 'T'}\n",
    "y_test_pred_list= [idx_to_class[item] for sublist in y_test_pred_list for item in sublist]"
   ]
  },
  {
   "cell_type": "code",
   "execution_count": null,
   "metadata": {},
   "outputs": [],
   "source": [
    "confusion_matrix_df = pd.DataFrame(confusion_matrix(y_test, y_test_pred_list))\n",
    "sns.heatmap(confusion_matrix_df, annot=True)"
   ]
  },
  {
   "cell_type": "code",
   "execution_count": null,
   "metadata": {},
   "outputs": [],
   "source": [
    "print(classification_report(y_test, y_test_pred_list))"
   ]
  }
 ],
 "metadata": {
  "kernelspec": {
   "display_name": "PT",
   "language": "python",
   "name": "python3"
  },
  "language_info": {
   "codemirror_mode": {
    "name": "ipython",
    "version": 3
   },
   "file_extension": ".py",
   "mimetype": "text/x-python",
   "name": "python",
   "nbconvert_exporter": "python",
   "pygments_lexer": "ipython3",
   "version": "3.10.9"
  },
  "orig_nbformat": 4,
  "vscode": {
   "interpreter": {
    "hash": "43926946470bb827d305256f979d20d06136168b26887207f85f0d5c88e9b0a7"
   }
  }
 },
 "nbformat": 4,
 "nbformat_minor": 2
}
