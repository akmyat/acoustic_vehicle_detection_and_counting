{
 "cells": [
  {
   "cell_type": "code",
   "execution_count": null,
   "metadata": {},
   "outputs": [],
   "source": [
    "import os\n",
    "import glob\n",
    "import numpy as np\n",
    "\n",
    "import torch\n",
    "import torch.nn as nn\n",
    "from torch.utils.data import Dataset, DataLoader\n",
    "\n",
    "from torchvision.io import read_image\n",
    "from torchvision import transforms\n",
    "from torchvision.models import resnet18\n",
    "\n",
    "from sklearn.metrics import confusion_matrix, classification_report\n",
    "\n",
    "import seaborn as sns\n",
    "import matplotlib.pyplot as plt\n",
    "%matplotlib inline"
   ]
  },
  {
   "cell_type": "code",
   "execution_count": null,
   "metadata": {},
   "outputs": [],
   "source": [
    "TRAIN_FOLDER = \"../dataset/VC-PRG-1_5-IMG/\"\n",
    "TEST_FOLDER = \"../dataset/VC-PRG-6-IMG/\"\n",
    "\n",
    "BATCH_SIZE = 1\n",
    "NUM_EPOCHS = 10\n",
    "LEARNING_RATE = 1e-3"
   ]
  },
  {
   "cell_type": "code",
   "execution_count": null,
   "metadata": {},
   "outputs": [],
   "source": [
    "device = \"cuda\" if torch.cuda.is_available() else \"cpu\""
   ]
  },
  {
   "cell_type": "code",
   "execution_count": null,
   "metadata": {},
   "outputs": [],
   "source": [
    "class VehicleDataset(Dataset):\n",
    "    def __init__(self, folder_path, transform):\n",
    "        self.files = sorted(glob.glob(folder_path + \"*.png\"))\n",
    "        self.transform = transform\n",
    "\n",
    "    def __len__(self):\n",
    "        return len(self.files)\n",
    "\n",
    "    def __getitem__(self, index):\n",
    "        label = int(os.path.basename(self.files[index]).replace(\".png\", \"\").split(\"-\")[-1])\n",
    "\n",
    "        img = read_image(self.files[index])\n",
    "        img = img[:3, :, :]\n",
    "\n",
    "        if self.transform:\n",
    "            img = self.transform(img)\n",
    "        return img, label"
   ]
  },
  {
   "cell_type": "code",
   "execution_count": null,
   "metadata": {},
   "outputs": [],
   "source": [
    "data_transforms = transforms.Compose([\n",
    "    transforms.ToPILImage(),\n",
    "    transforms.Resize((224, 224)),\n",
    "    transforms.ToTensor(),\n",
    "    transforms.Normalize([0.485, 0.456, 0.406], [0.229, 0.224, 0.225])\n",
    "])"
   ]
  },
  {
   "cell_type": "code",
   "execution_count": null,
   "metadata": {},
   "outputs": [],
   "source": [
    "train_dataset = VehicleDataset(TRAIN_FOLDER, data_transforms)\n",
    "test_dataset = VehicleDataset(TEST_FOLDER, data_transforms)\n",
    "\n",
    "train_dataloader = DataLoader(train_dataset, batch_size=BATCH_SIZE)\n",
    "test_dataloader = DataLoader(test_dataset, batch_size=BATCH_SIZE)"
   ]
  },
  {
   "cell_type": "code",
   "execution_count": null,
   "metadata": {},
   "outputs": [],
   "source": [
    "model = resnet18(pretrained=True)\n",
    "num_ftrs = model.fc.in_features\n",
    "model.fc = nn.Linear(num_ftrs, 15)\n",
    "model.to(device)"
   ]
  },
  {
   "cell_type": "code",
   "execution_count": null,
   "metadata": {},
   "outputs": [],
   "source": [
    "loss_fn = nn.CrossEntropyLoss()\n",
    "optimizer = torch.optim.Adam(model.parameters(), lr=LEARNING_RATE)\n",
    "\n",
    "def multi_acc(y_pred, y_true):\n",
    "    y_pred_softmax = torch.log_softmax(y_pred, dim=1)\n",
    "    _, y_pred_tags = torch.max(y_pred_softmax, dim=1)\n",
    "    correct_pred = (y_pred_tags == y_true).float()\n",
    "    acc = correct_pred.sum() / len(correct_pred)\n",
    "    acc = torch.round(acc * 100)\n",
    "    return acc"
   ]
  },
  {
   "cell_type": "code",
   "execution_count": null,
   "metadata": {},
   "outputs": [],
   "source": [
    "train_losses = []\n",
    "train_accs = []\n",
    "\n",
    "for epoch in range(NUM_EPOCHS):\n",
    "    train_running_loss = 0.0\n",
    "    train_running_acc = 0.0\n",
    "\n",
    "    # Train\n",
    "    model.train()\n",
    "    for idx, (X_train, y_train_trues) in enumerate(train_dataloader, 0):\n",
    "        X_train, y_train_trues = X_train.to(device), y_train_trues.to(device)\n",
    "\n",
    "        # Predict\n",
    "        optimizer.zero_grad()\n",
    "                \n",
    "        y_train_preds = model(X_train)\n",
    "\n",
    "        train_loss = loss_fn(y_train_preds, y_train_trues)\n",
    "        train_acc = multi_acc(y_train_preds, y_train_trues)\n",
    "\n",
    "        train_loss.backward()\n",
    "        optimizer.step()\n",
    "\n",
    "        train_running_loss += train_loss.item()\n",
    "        train_running_acc += train_acc.item()\n",
    "    train_losses.append(train_running_loss/len(train_dataloader))\n",
    "    train_accs.append(train_running_acc/len(train_dataloader))\n",
    "\n",
    "    print(f\"Epoch [{epoch+1}/{NUM_EPOCHS}]\\t|\\tTrain Loss: {train_running_loss/len(train_dataloader):.5f}\\t|\\tTrain Acc: {train_running_acc/len(train_dataloader):.3f}\\t|\")\n",
    "\n",
    "\n",
    "# Save the model\n",
    "torch.save(model.state_dict(), f\"vcd_{MODEL_NAME}_{LEARNING_RATE}lr_{NUM_EPOCHS}epoch_model.pt\")"
   ]
  },
  {
   "cell_type": "code",
   "execution_count": null,
   "metadata": {},
   "outputs": [],
   "source": [
    "fig, (ax1, ax2) = plt.subplots(1, 2, figsize=(20, 10))\n",
    "ax1.plot(train_accs, '-o', label='Train')\n",
    "ax1.set_title('Accuracy')\n",
    "ax1.set_xlabel('Epoch')\n",
    "ax1.set_ylabel('Accuracy')\n",
    "ax1.legend()\n",
    "\n",
    "ax2.plot(train_losses, '-o', label='Train')\n",
    "ax2.set_title('Loss')\n",
    "ax2.set_xlabel('Epoch')\n",
    "ax2.set_ylabel('Loss')\n",
    "ax2.legend()\n",
    "\n",
    "plt.savefig(f\"vcd_{MODEL_NAME}_{LEARNING_RATE}lr_{NUM_EPOCHS}epoch_model.png\")"
   ]
  },
  {
   "cell_type": "code",
   "execution_count": null,
   "metadata": {},
   "outputs": [],
   "source": [
    "y_test_pred_list = []\n",
    "with torch.no_grad():\n",
    "    model.eval()\n",
    "    for idx, (X_test, y_test_trues) in enumerate(test_dataloader, 0):\n",
    "        X_test, y_test_trues = X_test.to(device), y_test_trues.to(device)\n",
    "\n",
    "        y_test_preds = model(X_test)\n",
    "\n",
    "        _, y_test_preds_tags = torch.max(y_test_preds, dim=1)\n",
    "        y_test_pred_list.append(y_test_preds_tags.cpu().numpy())\n",
    "\n",
    "y_test_pred_list = [a.squeeze().tolist() for a in y_test_pred_list]\n",
    "if BATCH_SIZE != 1:\n",
    "  y_test_pred_list= [item for sublist in y_test_pred_list for item in sublist]"
   ]
  },
  {
   "cell_type": "code",
   "execution_count": null,
   "metadata": {},
   "outputs": [],
   "source": [
    "y_test = []\n",
    "for _, label in test_dataset:\n",
    "  y_test.append(label)"
   ]
  },
  {
   "cell_type": "code",
   "execution_count": null,
   "metadata": {},
   "outputs": [],
   "source": [
    "confusion_matrix_df = pd.DataFrame(confusion_matrix(y_test, y_test_pred_list))\n",
    "sns.heatmap(confusion_matrix_df, annot=True)"
   ]
  },
  {
   "cell_type": "code",
   "execution_count": null,
   "metadata": {},
   "outputs": [],
   "source": [
    "print(classification_report(y_test, y_test_pred_list))"
   ]
  }
 ],
 "metadata": {
  "kernelspec": {
   "display_name": "PT",
   "language": "python",
   "name": "python3"
  },
  "language_info": {
   "codemirror_mode": {
    "name": "ipython",
    "version": 3
   },
   "file_extension": ".py",
   "mimetype": "text/x-python",
   "name": "python",
   "nbconvert_exporter": "python",
   "pygments_lexer": "ipython3",
   "version": "3.10.9"
  },
  "orig_nbformat": 4,
  "vscode": {
   "interpreter": {
    "hash": "43926946470bb827d305256f979d20d06136168b26887207f85f0d5c88e9b0a7"
   }
  }
 },
 "nbformat": 4,
 "nbformat_minor": 2
}
