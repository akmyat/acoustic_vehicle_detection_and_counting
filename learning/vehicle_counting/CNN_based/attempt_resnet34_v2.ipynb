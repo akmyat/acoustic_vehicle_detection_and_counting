{
 "cells": [
  {
   "cell_type": "code",
   "execution_count": null,
   "metadata": {},
   "outputs": [],
   "source": [
    "import torch\n",
    "import torch.nn as nn\n",
    "import torch.nn.functional as F\n",
    "from torch.utils.data import TensorDataset, DataLoader, WeightedRandomSampler\n",
    "\n",
    "import torchaudio\n",
    "from torchaudio.transforms import Resample, MelSpectrogram\n",
    "import torchvision\n",
    "import torchvision.transforms as T\n",
    "from torchvision.transforms import Resize\n",
    "from torchvision.models import resnet34\n",
    "\n",
    "import h5py\n",
    "import numpy as np\n",
    "\n",
    "import os\n",
    "import glob\n",
    "\n",
    "import matplotlib.pyplot as plt\n",
    "%matplotlib  inline"
   ]
  },
  {
   "cell_type": "code",
   "execution_count": null,
   "metadata": {},
   "outputs": [],
   "source": [
    "BATCH_SIZE = 10\n",
    "NUM_EPOCHS = 50\n",
    "LEARNING_RATE = 1e-4"
   ]
  },
  {
   "cell_type": "code",
   "execution_count": null,
   "metadata": {},
   "outputs": [],
   "source": [
    "if torch.cuda.is_available():\n",
    "    device = \"cuda\"\n",
    "else:\n",
    "    device = \"cpu\""
   ]
  },
  {
   "cell_type": "code",
   "execution_count": null,
   "metadata": {},
   "outputs": [],
   "source": [
    "model = resnet34(pretrained=True)\n",
    "num_ftrs = model.fc.in_features\n",
    "model.fc = nn.Linear(num_ftrs, 15)"
   ]
  },
  {
   "cell_type": "code",
   "execution_count": null,
   "metadata": {},
   "outputs": [],
   "source": [
    "train_dataset = \"../preprocess/datasets/train_dataset.h5\"\n",
    "hf = h5py.File(train_dataset, 'r')\n",
    "x_train = np.array(hf['features'], dtype=np.float64)\n",
    "y_train = np.array(hf['vehicle_counts']).astype('int')\n",
    "hf.close()\n",
    "\n",
    "test_dataset = \"../preprocess/datasets/test_dataset.h5\"\n",
    "hf = h5py.File(test_dataset, 'r')\n",
    "x_test = np.array(hf['features'], dtype=np.float64)\n",
    "y_test = np.array(hf['vehicle_counts']).astype('int')\n",
    "hf.close()\n",
    "\n",
    "print(f\"X train: {x_train.shape}\\tY train: {y_train.shape}\")\n",
    "print(f\"X test: {x_test.shape}\\tY test: {y_test.shape}\")"
   ]
  },
  {
   "cell_type": "code",
   "execution_count": null,
   "metadata": {},
   "outputs": [],
   "source": [
    "TRAIN_AUDIO_FOLDER = \"../VC-PRG-1_5/\"\n",
    "\n",
    "labels = []\n",
    "\n",
    "train_audio_files = sorted(glob.glob(TRAIN_AUDIO_FOLDER + \"*.txt\"))\n",
    "\n",
    "for item in range(len(train_audio_files)):\n",
    "    with open(train_audio_files[item], 'r') as f:\n",
    "        sentence = f.readlines()\n",
    "        if -1 in sentence:\n",
    "            labels.append(0)\n",
    "        else:\n",
    "            labels.append(len(sentence))\n",
    "\n",
    "labels_unique, counts = np.unique(labels, return_counts=True)\n",
    "class_weights = [sum(counts) / c for c in counts]\n",
    "example_weights = [class_weights[e-1] for e in labels]\n",
    "sampler = WeightedRandomSampler(example_weights, len(labels))"
   ]
  },
  {
   "cell_type": "code",
   "execution_count": null,
   "metadata": {},
   "outputs": [],
   "source": [
    "# Train Data\n",
    "tensor_x_train = torch.Tensor(x_train)\n",
    "tensor_y_train = torch.Tensor(y_train).to(torch.int64)\n",
    "train_dataset = TensorDataset(tensor_x_train, tensor_y_train)\n",
    "# train_dataloader = DataLoader(train_dataset, batch_size=BATCH_SIZE, shuffle=True)\n",
    "train_dataloader = DataLoader(train_dataset, batch_size=BATCH_SIZE, sampler=sampler)\n",
    "\n",
    "# Test Data\n",
    "tensor_x_test = torch.Tensor(x_test)\n",
    "tensor_y_test = torch.Tensor(y_test).to(torch.int64)\n",
    "test_dataset = TensorDataset(tensor_x_test, tensor_y_test)\n",
    "test_dataloader = DataLoader(test_dataset, batch_size=BATCH_SIZE, shuffle=True)"
   ]
  },
  {
   "cell_type": "code",
   "execution_count": null,
   "metadata": {},
   "outputs": [],
   "source": [
    "model = model.to(device)\n",
    "\n",
    "loss_fn = nn.CrossEntropyLoss()\n",
    "optimizer = torch.optim.Adam(model.parameters(), lr=LEARNING_RATE)\n",
    "\n",
    "train_loss = list()\n",
    "train_acc = list()\n",
    "\n",
    "for epoch in range(NUM_EPOCHS):\n",
    "    running_loss = 0.0\n",
    "    correct = 0.0\n",
    "    total = 0.0\n",
    "    for i, data in enumerate(train_dataloader, 0):\n",
    "        features, labels = data\n",
    "        features, labels = features.to(device), labels.to(device)\n",
    "        features = Resize((224, 224), interpolation=T.InterpolationMode.BILINEAR)(features)\n",
    "        features = features.unsqueeze(1).repeat(1, 3, 1, 1)\n",
    "\n",
    "        labels = nn.functional.one_hot(labels, num_classes=15).float()\n",
    "\n",
    "        optimizer.zero_grad()\n",
    "        \n",
    "        predictions = model(features)\n",
    "        loss = loss_fn(predictions, labels)\n",
    "\n",
    "        loss.backward()\n",
    "        optimizer.step()\n",
    "\n",
    "        running_loss += loss.item()\n",
    "        total += labels.size(0)\n",
    "        correct += (torch.argmax(predictions, 1) == torch.argmax(labels, 1)).sum().item()\n",
    "        if i % 10 == 0:\n",
    "            print(f\"Epoch [{epoch + 1} / {NUM_EPOCHS}] loss: {running_loss / 10:.4f}\")\n",
    "    \n",
    "    train_loss.append(running_loss / len(train_dataloader))\n",
    "    train_acc.append(correct / total * 100.0)\n",
    "\n",
    "torch.save(model.state_dict(), \"vcd_resnet18_model.pth\")\n",
    "print(\"Finishshed Training\")"
   ]
  },
  {
   "cell_type": "code",
   "execution_count": null,
   "metadata": {},
   "outputs": [],
   "source": [
    "fig, (ax1, ax2) = plt.subplots(1, 2, figsize=(20, 10))\n",
    "ax1.plot(train_acc, '-o')\n",
    "ax1.set_title = 'Train Accuracy'\n",
    "ax1.set_xlabel = 'Epoch'\n",
    "ax1.set_ylabel = 'Accuracy'\n",
    "\n",
    "ax2.plot(train_loss, '-o')\n",
    "ax2.set_title = 'Train Loss'\n",
    "ax2.set_xlabel = 'Epoch'\n",
    "ax2.set_ylabel = 'Loss'\n",
    "plt.show()"
   ]
  },
  {
   "cell_type": "code",
   "execution_count": null,
   "metadata": {},
   "outputs": [],
   "source": [
    "correct = 0\n",
    "total = 0\n",
    "\n",
    "model.eval()\n",
    "with torch.no_grad():\n",
    "    for data in test_dataloader:\n",
    "        features, labels = data\n",
    "        features, labels = features.to(device), labels.to(device)\n",
    "        features = Resize((224, 224), interpolation=T.InterpolationMode.BILINEAR)(features)\n",
    "        features = features.unsqueeze(1).repeat(1, 3, 1, 1)\n",
    "        \n",
    "        predictions = model(features)\n",
    "        _, predictions = torch.max(predictions, 1)\n",
    "        \n",
    "        total += labels.size(0)\n",
    "        correct += (predictions == labels).sum().item()\n",
    "print(f'Accuracy: {100 * correct // total} %')"
   ]
  }
 ],
 "metadata": {
  "kernelspec": {
   "display_name": "PT",
   "language": "python",
   "name": "python3"
  },
  "language_info": {
   "codemirror_mode": {
    "name": "ipython",
    "version": 3
   },
   "file_extension": ".py",
   "mimetype": "text/x-python",
   "name": "python",
   "nbconvert_exporter": "python",
   "pygments_lexer": "ipython3",
   "version": "3.10.9"
  },
  "orig_nbformat": 4,
  "vscode": {
   "interpreter": {
    "hash": "43926946470bb827d305256f979d20d06136168b26887207f85f0d5c88e9b0a7"
   }
  }
 },
 "nbformat": 4,
 "nbformat_minor": 2
}
