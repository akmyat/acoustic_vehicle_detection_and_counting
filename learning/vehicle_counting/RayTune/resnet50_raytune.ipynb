{
  "cells": [
    {
      "cell_type": "code",
      "execution_count": null,
      "metadata": {
        "colab": {
          "base_uri": "https://localhost:8080/"
        },
        "id": "HRVp-3z8bvG-",
        "outputId": "e669e94f-a1d7-4b46-a270-69b0b7621f32"
      },
      "outputs": [],
      "source": [
        "from google.colab import drive\n",
        "drive.mount('/content/drive')"
      ]
    },
    {
      "cell_type": "code",
      "execution_count": null,
      "metadata": {
        "id": "emqe9cDFcPl0"
      },
      "outputs": [],
      "source": [
        "# !pip install -U \"ray[default]\""
      ]
    },
    {
      "cell_type": "code",
      "execution_count": null,
      "metadata": {
        "id": "p1KHPUYMbwmx"
      },
      "outputs": [],
      "source": [
        "import os\n",
        "import glob\n",
        "import numpy as np\n",
        "import pandas as pd\n",
        "from functools import partial\n",
        "\n",
        "import torch\n",
        "import torch.nn as nn\n",
        "import torch.nn.functional as F\n",
        "import torch.optim as optim\n",
        "from torch.utils.data import Dataset, DataLoader,random_split\n",
        "\n",
        "import torchvision\n",
        "from torchvision import transforms\n",
        "from torchvision.io import read_image\n",
        "from torchvision.models import resnet50, ResNet50_Weights\n",
        "\n",
        "from ray import tune\n",
        "from ray.tune import CLIReporter\n",
        "from ray.tune.schedulers import ASHAScheduler\n",
        "\n",
        "from sklearn.model_selection import train_test_split\n",
        "from sklearn.metrics import confusion_matrix, classification_report\n",
        "\n",
        "import seaborn as sns\n",
        "import matplotlib.pyplot as plt\n",
        "%matplotlib inline"
      ]
    },
    {
      "cell_type": "code",
      "execution_count": null,
      "metadata": {
        "id": "Nso-2shwclrg"
      },
      "outputs": [],
      "source": [
        "DATA_FOLDER = \"/content/drive/MyDrive/Thesis/Experiments/VC-PRG-IMG/\"\n",
        "\n",
        "MODEL_NAME = \"resnet50\"\n",
        "BATCH_SIZE = 32\n",
        "NUM_EPOCHS = 50\n",
        "LEARNING_RATE = 1e-4"
      ]
    },
    {
      "cell_type": "code",
      "execution_count": null,
      "metadata": {
        "id": "MhPQn36Hcnmk"
      },
      "outputs": [],
      "source": [
        "class VehicleDataset(Dataset):\n",
        "    def __init__(self, X, y, transform=None):\n",
        "        self.X = X\n",
        "        self.y = y\n",
        "        self.transform = transform\n",
        "\n",
        "    def __len__(self):\n",
        "        return len(self.X)\n",
        "    \n",
        "    def __getitem__(self, idx):\n",
        "        image = read_image(self.X[idx])\n",
        "        image = image[:3, :, :]\n",
        "        if self.transform:\n",
        "            image = self.transform(image)\n",
        "        label = self.y[idx]\n",
        "        return image, label"
      ]
    },
    {
      "cell_type": "code",
      "execution_count": null,
      "metadata": {
        "id": "yK370_qKcqrX"
      },
      "outputs": [],
      "source": [
        "def get_label(filename):\n",
        "    label = os.path.basename(filename).replace(\".png\", \"\").split(\"-\")[-1]\n",
        "    return int(label)\n",
        "\n",
        "files = sorted(glob.glob(os.path.join(DATA_FOLDER, \"*.png\")))\n",
        "labels = [get_label(file) for file in files]\n",
        "df = pd.DataFrame({\"filename\": files, \"label\": labels})\n",
        "\n",
        "temp_X, test_X, temp_y, test_y = train_test_split(df['filename'], df['label'], test_size=0.1, random_state=42)\n",
        "temp_X.reset_index(drop=True, inplace=True)\n",
        "temp_y.reset_index(drop=True, inplace=True)\n",
        "test_X.reset_index(drop=True, inplace=True)\n",
        "test_y.reset_index(drop=True, inplace=True)\n",
        "\n",
        "train_X, val_X, train_y, val_y = train_test_split(temp_X, temp_y, test_size=0.1, random_state=42)\n",
        "train_X.reset_index(drop=True, inplace=True)\n",
        "train_y.reset_index(drop=True, inplace=True)\n",
        "val_X.reset_index(drop=True, inplace=True)\n",
        "val_y.reset_index(drop=True, inplace=True)"
      ]
    },
    {
      "cell_type": "code",
      "execution_count": null,
      "metadata": {
        "id": "5yjF9sLRczAM"
      },
      "outputs": [],
      "source": [
        "data_transforms = transforms.Compose([\n",
        "    transforms.ToPILImage(),\n",
        "    transforms.Resize((224, 224)),\n",
        "    transforms.ToTensor(),\n",
        "    transforms.Normalize([0.485, 0.456, 0.406], [0.229, 0.224, 0.225])\n",
        "])"
      ]
    },
    {
      "cell_type": "code",
      "execution_count": null,
      "metadata": {
        "id": "ANZk8Zcdc3qD"
      },
      "outputs": [],
      "source": [
        "def train(config, checkpoint_dir=None, data_dir=None):\n",
        "  model = resnet50(weights=ResNet50_Weights.IMAGENET1K_V1)\n",
        "  num_ftrs = model.fc.in_features\n",
        "  model.fc = nn.Linear(num_ftrs, 13)\n",
        "\n",
        "  device = \"cuda\" if torch.cuda.is_available() else \"cpu\"\n",
        "\n",
        "  model.to(device)\n",
        "\n",
        "  loss_fn = nn.CrossEntropyLoss()\n",
        "  optimizer = optim.Adam(model.parameters(), lr=config[\"lr\"], weight_decay=config[\"wd\"])\n",
        "\n",
        "  if checkpoint_dir:\n",
        "    model_state, optimizer_state = torch.load(os.path.join(checkpoint_dir, \"checkpoint\"))\n",
        "    model.load_state_dict(model_state)\n",
        "    optimizer.load_state_dict(optimizer_state)\n",
        "\n",
        "  train_dataset = VehicleDataset(train_X, train_y, transform=data_transforms)\n",
        "  val_dataset = VehicleDataset(val_X, val_y, transform=data_transforms)\n",
        "\n",
        "  train_dataloader = DataLoader(train_dataset, batch_size=config[\"batch_size\"], shuffle=True)\n",
        "  val_dataloader = DataLoader(val_dataset, batch_size=config[\"batch_size\"], shuffle=True)\n",
        "\n",
        "  for epoch in range(NUM_EPOCHS):\n",
        "\n",
        "    # Training\n",
        "    train_running_loss = 0.0\n",
        "\n",
        "    for idx, (X_train, y_train_trues) in enumerate(train_dataloader, 0):\n",
        "      X_train, y_train_trues = X_train.to(device), y_train_trues.to(device)\n",
        "      \n",
        "      # Zero the gradients paramter\n",
        "      optimizer.zero_grad()\n",
        "\n",
        "      # Forward\n",
        "      y_train_preds = model(X_train)\n",
        "      train_loss = loss_fn(y_train_preds, y_train_trues)\n",
        "      # Backward\n",
        "      train_loss.backward()\n",
        "      # Optimize\n",
        "      optimizer.step()\n",
        "\n",
        "      train_running_loss += train_loss.item()\n",
        "\n",
        "    print(f\"Epoch [{epoch+1}/{NUM_EPOCHS}]\\t|\\tTrain Loss: {train_running_loss/len(train_dataloader):.5f}\\t|\")\n",
        "\n",
        "    # Validation\n",
        "    val_running_loss = 0.0\n",
        "    val_steps = 0\n",
        "    total = 0\n",
        "    correct = 0\n",
        "\n",
        "    for idx, (X_val, y_val_trues) in enumerate(val_dataloader, 0):\n",
        "      with torch.no_grad():\n",
        "        X_val, y_val_trues = X_val.to(device), y_val_trues.to(device)\n",
        "\n",
        "        y_val_preds = model(X_val)\n",
        "        _, predicted = torch.max(y_val_preds.data, 1)\n",
        "        total += y_val_trues.size(0)\n",
        "        correct += (predicted == y_val_trues).sum().item()\n",
        "\n",
        "        val_loss = loss_fn(y_val_preds, y_val_trues)\n",
        "        val_running_loss += val_loss.item()\n",
        "        val_steps += 1\n",
        "\n",
        "    with tune.checkpoint_dir(epoch) as checkpoint_dir:\n",
        "      path = os.path.join(checkpoint_dir, \"checkpoint\")\n",
        "      torch.save((model.state_dict(), optimizer.state_dict()), path)\n",
        "    \n",
        "    tune.report(loss=(val_running_loss / val_steps), accuracy=correct / total)\n",
        "  print(\"Finished Traiing\")  "
      ]
    },
    {
      "cell_type": "code",
      "execution_count": null,
      "metadata": {
        "id": "AH-Y6Dzbdtko"
      },
      "outputs": [],
      "source": [
        "def test_accuracy(model, device=\"cpu\"):\n",
        "  test_dataset = VehicleDataset(test_X, test_y, transform=data_transforms)\n",
        "  test_dataloader = DataLoader(test_dataset, batch_size=BATCH_SIZE)\n",
        "\n",
        "  correct = 0\n",
        "  total = 0\n",
        "  with torch.no_grad():\n",
        "    for X_test, y_test_trues in test_dataloader:\n",
        "        X_test, y_test_trues = X_test.to(device), y_test_trues.to(device)\n",
        "\n",
        "        y_test_preds = model(X_test)\n",
        "        _, predicted = torch.max(y_test_preds.data, 1)\n",
        "        total += y_test_trues.size(0)\n",
        "        correct += (predicted == y_test_trues).sum().item()\n",
        "  return correct / total"
      ]
    },
    {
      "cell_type": "code",
      "execution_count": null,
      "metadata": {
        "colab": {
          "base_uri": "https://localhost:8080/",
          "height": 1000
        },
        "id": "hl1PTtIkkyqn",
        "outputId": "d406c093-fa0d-488d-a4b7-1415029c3e44"
      },
      "outputs": [],
      "source": [
        "data_dir = os.path.abspath(\"./data\")\n",
        "checkpoint_dir = os.path.abspath(\"./checkpoint\")\n",
        "\n",
        "config = {\n",
        "    \"lr\": tune.loguniform(1e-5, 1e-3),\n",
        "    \"batch_size\": tune.choice([32, 64, 128]),\n",
        "    \"wd\": tune.choice([0, 0.01, 0.05, 0.025]),\n",
        "}\n",
        "\n",
        "scheduler = ASHAScheduler(\n",
        "    metric=\"loss\",\n",
        "    mode=\"min\",\n",
        "    max_t=NUM_EPOCHS,\n",
        "    grace_period=1,\n",
        "    reduction_factor=2\n",
        ")\n",
        "\n",
        "reporter = CLIReporter(\n",
        "    metric_columns=[\"loss\", \"accuracy\", \"training_iteration\"]\n",
        ")\n",
        "\n",
        "result = tune.run(\n",
        "    partial(train, data_dir=data_dir, checkpoint_dir=checkpoint_dir),\n",
        "    config=config,\n",
        "    num_samples=10,\n",
        "    scheduler=scheduler,\n",
        "    progress_reporter=reporter\n",
        ")"
      ]
    },
    {
      "cell_type": "code",
      "execution_count": null,
      "metadata": {
        "id": "JbofUApClgr4"
      },
      "outputs": [],
      "source": [
        "best_trial = result.get_best_trial(\"loss\", \"min\", \"last\")\n",
        "print(\"Best trial config: {}\".format(best_trial.config))\n",
        "print(\"Best trial final validation loss: {}\".format(best_trial.last_result[\"loss\"]))\n",
        "print(\"Best trial final validation accuracy: {}\".format(best_trial.last_result[\"accuracy\"]))"
      ]
    },
    {
      "cell_type": "code",
      "execution_count": null,
      "metadata": {
        "id": "NZmqpiIZsOAD"
      },
      "outputs": [],
      "source": [
        "best_trained_model = CNNNetwork()\n",
        "best_checkpoint_dir = best_trial.checkpoint.value\n",
        "model_state, optimizer_state = torch.load(os.path.join(best_checkpoint_dir, \"checkpoint\"))\n",
        "best_trained_model.load_state_dict(model_state)\n",
        "\n",
        "test_acc = test_accuracy(best_trained_model, \"cuda\")\n",
        "print(\"Best trial test set accuracy: {}\".format(test_acc))"
      ]
    },
    {
      "cell_type": "code",
      "execution_count": null,
      "metadata": {
        "id": "ra38YOZmt-WZ"
      },
      "outputs": [],
      "source": []
    }
  ],
  "metadata": {
    "colab": {
      "provenance": []
    },
    "kernelspec": {
      "display_name": "PT",
      "language": "python",
      "name": "python3"
    },
    "language_info": {
      "codemirror_mode": {
        "name": "ipython",
        "version": 3
      },
      "file_extension": ".py",
      "mimetype": "text/x-python",
      "name": "python",
      "nbconvert_exporter": "python",
      "pygments_lexer": "ipython3",
      "version": "3.10.9"
    },
    "vscode": {
      "interpreter": {
        "hash": "43926946470bb827d305256f979d20d06136168b26887207f85f0d5c88e9b0a7"
      }
    }
  },
  "nbformat": 4,
  "nbformat_minor": 0
}
