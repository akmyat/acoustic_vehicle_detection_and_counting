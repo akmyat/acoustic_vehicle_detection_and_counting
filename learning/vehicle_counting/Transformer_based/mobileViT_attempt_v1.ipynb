{
 "cells": [
  {
   "cell_type": "code",
   "execution_count": 1,
   "metadata": {},
   "outputs": [],
   "source": [
    "import os\n",
    "import glob\n",
    "import numpy as np\n",
    "from IPython.display import Audio, display\n",
    "\n",
    "import torch\n",
    "\n",
    "import torchaudio\n",
    "import torchaudio.transforms as T\n",
    "\n",
    "from transformers import AutoImageProcessor, MobileViTForImageClassification, TrainingArguments, Trainer\n",
    "\n",
    "from datasets import Audio, Dataset, DatasetDict, ClassLabel, load_metric"
   ]
  },
  {
   "cell_type": "code",
   "execution_count": null,
   "metadata": {},
   "outputs": [],
   "source": [
    "# Download and Unzip VC-PRG-1_5.zip\n",
    "!wget http://cmp.felk.cvut.cz/data/audio_vc/audio/VC-PRG-1_5.zip\n",
    "!unzip VC-PRG-1_5.zip\n",
    "!rm VC-PRG-1_5.zip"
   ]
  },
  {
   "cell_type": "code",
   "execution_count": null,
   "metadata": {},
   "outputs": [],
   "source": [
    "# Download and Unzip VC-PRG-6.zip\n",
    "!wget http://cmp.felk.cvut.cz/data/audio_vc/audio/VC-PRG-6.zip\n",
    "!unzip VC-PRG-6.zip\n",
    "!rm VC-PRG-6.zip"
   ]
  },
  {
   "cell_type": "code",
   "execution_count": null,
   "metadata": {},
   "outputs": [],
   "source": [
    "image_processor = AutoImageProcessor.from_pretrained(\"apple/mobilevit-small\")"
   ]
  },
  {
   "cell_type": "code",
   "execution_count": null,
   "metadata": {},
   "outputs": [],
   "source": [
    "NUM_CLASSES = 15\n",
    "label2id = {i: str(i) for i in range(NUM_CLASSES)}\n",
    "id2label = {str(i): i for i in range(NUM_CLASSES)}\n",
    "\n",
    "print(label2id)\n",
    "print(id2label)"
   ]
  }
 ],
 "metadata": {
  "kernelspec": {
   "display_name": "PT",
   "language": "python",
   "name": "python3"
  },
  "language_info": {
   "codemirror_mode": {
    "name": "ipython",
    "version": 3
   },
   "file_extension": ".py",
   "mimetype": "text/x-python",
   "name": "python",
   "nbconvert_exporter": "python",
   "pygments_lexer": "ipython3",
   "version": "3.10.9"
  },
  "orig_nbformat": 4,
  "vscode": {
   "interpreter": {
    "hash": "43926946470bb827d305256f979d20d06136168b26887207f85f0d5c88e9b0a7"
   }
  }
 },
 "nbformat": 4,
 "nbformat_minor": 2
}
